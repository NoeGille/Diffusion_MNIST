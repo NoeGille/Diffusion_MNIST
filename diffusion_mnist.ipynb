{
 "cells": [
  {
   "cell_type": "code",
   "execution_count": null,
   "metadata": {},
   "outputs": [],
   "source": [
    "from torch.utils.data import DataLoader\n",
    "from torchvision.datasets import MNIST\n",
    "from torchvision import transforms\n",
    "import matplotlib.pyplot as plt\n",
    "from torch import nn\n",
    "import torch\n",
    "\n",
    "device = torch.device('cuda' if torch.cuda.is_available() else 'cpu')\n",
    "\n",
    "preprocess = transforms.Compose(\n",
    "    [\n",
    "        transforms.ToTensor(),\n",
    "        transforms.Normalize([0.5], [0.5]),\n",
    "    ]\n",
    ")\n",
    "batch_size = 128\n",
    "dataset = MNIST(root='', train=True, download=True, transform=preprocess)\n",
    "loader_train = DataLoader(dataset, batch_size, shuffle=True)\n",
    "plt.imshow(dataset[0][0].squeeze(), cmap='gray')\n",
    "plt.colorbar()\n",
    "plt.show()"
   ]
  },
  {
   "cell_type": "code",
   "execution_count": null,
   "metadata": {},
   "outputs": [],
   "source": [
    "from unet import UNet\n",
    "\n",
    "model = UNet(in_channels=1, out_channels=1, block_out_channels=[64, 128],)\n",
    "\n",
    "sample_image = dataset[8][0].unsqueeze(0)\n",
    "print(\"Input shape:\", sample_image.shape)\n",
    "\n",
    "print(\"Output shape:\", model(sample_image, torch.ones(1)).shape)\n",
    "plt.imshow(model(sample_image, torch.ones(1)).squeeze().detach().numpy())\n",
    "plt.title(\"Model output\")\n",
    "plt.show()"
   ]
  },
  {
   "cell_type": "code",
   "execution_count": null,
   "metadata": {},
   "outputs": [],
   "source": [
    "from ddpm import DDPM\n",
    "        \n",
    "model = DDPM(in_channels=1, out_channels=1, block_out_channels=[64, 128], device=device)\n",
    "model.to(device)\n",
    "sample_image = dataset[9][0].unsqueeze(0).to(device)\n",
    "noised_image, noise = model(sample_image, 1)\n",
    "fig, axes = plt.subplots(1, 10, figsize=(20, 2))\n",
    "for i,t in enumerate([99, 199, 299, 399, 499, 599, 699, 799, 899, 999]):\n",
    "    noised_image = model(sample_image, t)\n",
    "    axes[i].imshow(noised_image[0].squeeze().detach().cpu().numpy(), cmap='gray')\n",
    "    axes[i].axis('off')\n",
    "\n",
    "output = model.sampling(1000)\n",
    "plt.figure()\n",
    "plt.imshow(output.squeeze().detach().cpu().numpy(), cmap='gray')\n",
    "plt.colorbar()\n",
    "plt.title(\"Sampled image\")\n",
    "plt.show()"
   ]
  },
  {
   "cell_type": "code",
   "execution_count": null,
   "metadata": {},
   "outputs": [],
   "source": [
    "from random import randint\n",
    "from tqdm import tqdm\n",
    "\n",
    "def training(model, epochs, criterion, optimizer, loader_train, T = 1000):\n",
    "    '''Training loop for the model.\n",
    "    model: model to be trained.\n",
    "    lr: learning rate.\n",
    "    epochs: number of epochs.\n",
    "    criterion: loss function.\n",
    "    optimizer: optimizer to be used.\n",
    "    loader_train: training data loader.'''\n",
    "    model.train()\n",
    "    for epoch in range(epochs):\n",
    "        for i, (images, _) in tqdm(enumerate(loader_train)):\n",
    "            images = images.to(device)\n",
    "            t = randint(0, T-1)\n",
    "            x_noised, noise = model.forward(images, t)\n",
    "            optimizer.zero_grad()\n",
    "            \n",
    "            noise_pred = model.model(x_noised, t)\n",
    "            loss = criterion(noise_pred, noise)\n",
    "            loss.backward()\n",
    "            optimizer.step()\n",
    "        print(f\"Epoch: {epoch}, Loss: {loss.item()}\")\n",
    "        if epoch % 10 == 0:\n",
    "            img = model.sampling(T)\n",
    "            plt.imshow(img.squeeze().detach().cpu().numpy(), cmap='gray')\n",
    "            plt.colorbar()\n",
    "            plt.title(\"Sampled image\")\n",
    "            plt.show()\n",
    "    return model\n",
    "\n",
    "lr = 1e-4\n",
    "criterion = nn.MSELoss()\n",
    "optimizer = torch.optim.Adam(model.parameters(), lr=lr)\n",
    "epochs = 200\n",
    "model = training(model, epochs, criterion, optimizer, loader_train)\n"
   ]
  },
  {
   "cell_type": "code",
   "execution_count": null,
   "metadata": {},
   "outputs": [],
   "source": [
    "torch.save(model.state_dict(), 'model.pth')"
   ]
  }
 ],
 "metadata": {
  "kernelspec": {
   "display_name": "Python 3",
   "language": "python",
   "name": "python3"
  },
  "language_info": {
   "codemirror_mode": {
    "name": "ipython",
    "version": 3
   },
   "file_extension": ".py",
   "mimetype": "text/x-python",
   "name": "python",
   "nbconvert_exporter": "python",
   "pygments_lexer": "ipython3",
   "version": "3.11.4"
  }
 },
 "nbformat": 4,
 "nbformat_minor": 2
}
